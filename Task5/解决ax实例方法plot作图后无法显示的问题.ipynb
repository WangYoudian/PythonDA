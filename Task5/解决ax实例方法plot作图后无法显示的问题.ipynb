{
 "cells": [
  {
   "cell_type": "code",
   "execution_count": 2,
   "metadata": {},
   "outputs": [
    {
     "data": {
      "text/html": [
       "<iframe width=\"853\" height=\"480\" src=\"https://www.youtube.com/embed/Ql8QPcp8818\" frameborder=\"0\" allow=\"accelerometer; autoplay; encrypted-media; gyroscope; picture-in-picture\" allowfullscreen></iframe>\n"
      ],
      "text/plain": [
       "<IPython.core.display.HTML object>"
      ]
     },
     "metadata": {},
     "output_type": "display_data"
    }
   ],
   "source": [
    "%%HTML\n",
    "<iframe width=\"853\" height=\"480\" src=\"https://www.youtube.com/embed/Ql8QPcp8818\" frameborder=\"0\" allow=\"accelerometer; autoplay; encrypted-media; gyroscope; picture-in-picture\" allowfullscreen></iframe>"
   ]
  },
  {
   "cell_type": "code",
   "execution_count": 3,
   "metadata": {},
   "outputs": [],
   "source": [
    "import matplotlib.pyplot as plt\n",
    "import numpy as np"
   ]
  },
  {
   "cell_type": "code",
   "execution_count": 4,
   "metadata": {},
   "outputs": [
    {
     "data": {
      "image/png": "[encoded data removed]",
      "text/plain": [
       "<Figure size 432x288 with 3 Axes>"
      ]
     },
     "metadata": {
      "needs_background": "light"
     },
     "output_type": "display_data"
    }
   ],
   "source": [
    "fig = plt.figure()\n",
    "ax1 = fig.add_subplot(2, 2, 1)\n",
    "ax2 = fig.add_subplot(2, 2, 2)\n",
    "ax3 = fig.add_subplot(2, 2, 3)"
   ]
  },
  {
   "cell_type": "code",
   "execution_count": 9,
   "metadata": {
    "scrolled": false
   },
   "outputs": [
    {
     "name": "stdout",
     "output_type": "stream",
     "text": [
      "AxesSubplot(0.125,0.536818;0.352273x0.343182) AxesSubplot(0.547727,0.536818;0.352273x0.343182)\n"
     ]
    },
    {
     "data": {
      "image/png": "[encoded data removed]",
      "text/plain": [
       "<Figure size 432x288 with 3 Axes>"
      ]
     },
     "metadata": {
      "needs_background": "light"
     },
     "output_type": "display_data"
    }
   ],
   "source": [
    "fig = plt.figure()\n",
    "ax1 = fig.add_subplot(2, 2, 1)\n",
    "ax2 = fig.add_subplot(2, 2, 2)\n",
    "ax3 = fig.add_subplot(2, 2, 3)\n",
    "ax3.plot(np.random.randn(50).cumsum(), 'k--')\n",
    "ax2.hist(np.random.randn(100), bins=20, color='k', alpha=0.3)\n",
    "ax1.scatter(np.arange(30), np.arange(30) + 3 * np.random.randn(30))\n",
    "print(ax1, ax2)"
   ]
  },
  {
   "cell_type": "markdown",
   "metadata": {},
   "source": [
    "问题的解决关键在于调用的是plt.plot接口和还是运用plt.show()流程。  \n",
    "前者接收数据，立刻绘制出一幅独立的图形  \n",
    "后者正如在IDE中画图，最后都要调用plt.show()一样"
   ]
  },
  {
   "cell_type": "code",
   "execution_count": 12,
   "metadata": {},
   "outputs": [
    {
     "name": "stdout",
     "output_type": "stream",
     "text": [
      "AxesSubplot(0.125,0.536818;0.352273x0.343182) AxesSubplot(0.547727,0.536818;0.352273x0.343182)\n"
     ]
    },
    {
     "data": {
      "text/plain": [
       "<matplotlib.axes._subplots.AxesSubplot at 0x19ffe2a4080>"
      ]
     },
     "execution_count": 12,
     "metadata": {},
     "output_type": "execute_result"
    }
   ],
   "source": [
    "print(ax1, ax2)\n",
    "ax1"
   ]
  },
  {
   "cell_type": "code",
   "execution_count": 8,
   "metadata": {},
   "outputs": [
    {
     "name": "stdout",
     "output_type": "stream",
     "text": [
      "(array([ 2.,  2.,  2.,  2.,  6.,  7.,  4.,  6., 10., 13., 10.,  7.,  5.,\n",
      "        4.,  5.,  5.,  3.,  4.,  2.,  1.]), array([-2.24138073, -2.00656717, -1.77175361, -1.53694005, -1.30212649,\n",
      "       -1.06731293, -0.83249937, -0.59768581, -0.36287225, -0.12805869,\n",
      "        0.10675487,  0.34156843,  0.57638199,  0.81119555,  1.04600912,\n",
      "        1.28082268,  1.51563624,  1.7504498 ,  1.98526336,  2.22007692,\n",
      "        2.45489048]), <a list of 20 Patch objects>)\n"
     ]
    }
   ],
   "source": [
    "_ = ax2.hist(np.random.randn(100), bins=20, color='k', alpha=0.3)\n",
    "print(_)"
   ]
  },
  {
   "cell_type": "code",
   "execution_count": 15,
   "metadata": {},
   "outputs": [
    {
     "name": "stdout",
     "output_type": "stream",
     "text": [
      "[ 2.  2.  2.  2.  6.  7.  4.  6. 10. 13. 10.  7.  5.  4.  5.  5.  3.  4.\n",
      "  2.  1.]\n",
      "[-2.24138073 -2.00656717 -1.77175361 -1.53694005 -1.30212649 -1.06731293\n",
      " -0.83249937 -0.59768581 -0.36287225 -0.12805869  0.10675487  0.34156843\n",
      "  0.57638199  0.81119555  1.04600912  1.28082268  1.51563624  1.7504498\n",
      "  1.98526336  2.22007692  2.45489048]\n",
      "<a list of 20 Patch objects>\n"
     ]
    }
   ],
   "source": [
    "# _实际上经过了一番转换，类型为元组，同时还有类型信息<a list of 20 Patch objects>\n",
    "for i in range(len(_)):\n",
    "    print(_[i])"
   ]
  },
  {
   "cell_type": "code",
   "execution_count": 11,
   "metadata": {},
   "outputs": [
    {
     "name": "stdout",
     "output_type": "stream",
     "text": [
      "AxesSubplot(0.125,0.536818;0.352273x0.343182)\n"
     ]
    },
    {
     "data": {
      "text/plain": [
       "<matplotlib.axes._subplots.AxesSubplot at 0x19ffe2a4080>"
      ]
     },
     "execution_count": 11,
     "metadata": {},
     "output_type": "execute_result"
    }
   ],
   "source": [
    "ax1.scatter(np.arange(30), np.arange(30) + 3 * np.random.randn(30))\n",
    "print(ax1)\n",
    "ax1"
   ]
  },
  {
   "cell_type": "markdown",
   "metadata": {},
   "source": [
    "plt.figure方法可以对matplotlib作图进行重置，但重置前，所有对象仍旧通过名字来访问"
   ]
  },
  {
   "cell_type": "code",
   "execution_count": 17,
   "metadata": {},
   "outputs": [
    {
     "data": {
      "text/plain": [
       "<Figure size 432x288 with 0 Axes>"
      ]
     },
     "metadata": {},
     "output_type": "display_data"
    }
   ],
   "source": [
    "fig = plt.figure()\n",
    "# plt.show()"
   ]
  },
  {
   "cell_type": "code",
   "execution_count": 18,
   "metadata": {},
   "outputs": [
    {
     "name": "stdout",
     "output_type": "stream",
     "text": [
      "Using matplotlib backend: TkAgg\n",
      "Populating the interactive namespace from numpy and matplotlib\n"
     ]
    }
   ],
   "source": [
    "%pylab"
   ]
  },
  {
   "cell_type": "code",
   "execution_count": null,
   "metadata": {},
   "outputs": [],
   "source": []
  }
 ],
 "metadata": {
  "kernelspec": {
   "display_name": "Python 3",
   "language": "python",
   "name": "python3"
  },
  "language_info": {
   "codemirror_mode": {
    "name": "ipython",
    "version": 3
   },
   "file_extension": ".py",
   "mimetype": "text/x-python",
   "name": "python",
   "nbconvert_exporter": "python",
   "pygments_lexer": "ipython3",
   "version": "3.6.7"
  }
 },
 "nbformat": 4,
 "nbformat_minor": 2
}
